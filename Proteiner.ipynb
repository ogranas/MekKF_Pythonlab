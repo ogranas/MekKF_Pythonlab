{
 "cells": [
  {
   "cell_type": "markdown",
   "metadata": {},
   "source": [
    "# Harmonisk Oscillator i Python\n",
    "\n",
    "## *Syfte och Mål*\n",
    "Avsikten med denna datorlaboration är till första delen till för att stärka kunskapen om harmoniska svängningar, både drivna (tvingade/påtvingade) och dämpade. Avsikten är också att du ska få möjlighet att bekanta er med hur programeringsspråket Python kan användas för problemlösning inom mekanik.\n",
    "\n",
    "Genom ett exempel som är relevant för aktuell forksning kommer du ges möjlighet att steg-för-steg bekanta dig med hur dynamiken hos en harmonisk oscillator ser ut då den är dämpad, odämpad och driven. \n",
    "\n",
    "Efter laborationen kommer du ha stiftat bekantskap med olika typer av svängningsförlopp, hur grundläggande mekanik används för att resonera kring aktuella forkningsproblem samt hur Python används i dessa sammanhang. För den nyfikne finns dessutom möjlighet att se hur man med hjälp av standardhjälpmedel i Python implementerar lösningen till de differentialekvationer som styr den harmoniska oscillatorn."
   ]
  },
  {
   "cell_type": "markdown",
   "metadata": {},
   "source": [
    "## Exempel 1: Orientering av Proteiner för att förenkla karaktäriseing \n",
    "### Bakgrund\n",
    "Proteiner är biologiskt mycket viktiga molekyler, vilka reglerar många av de processer som sker i cellerna. Pga detta är proteiner ofta målet för läkemedelsmolekyler, dvs det är till proteinerna som läkemedlet binder in och förändrar dess funktion. Att kunna beskriva proteiners molekylära struktur, är viktigt för att kunna förstå dess funktion. Strukturbestämning av proteiner görs idag framför allt genom en teknik som kallas röntgenkristallografi. I denna teknik används kristaller av proteiner vilka man bestrålar med röntgenljus. Diffraktionsmönstret som bildas pga av att fotonerna interagerar med atomerna i kristallen innehåller information om atomernas positioner i förhållande till varandra, se bild 1. \n"
   ]
  },
  {
   "cell_type": "code",
   "execution_count": null,
   "metadata": {},
   "outputs": [],
   "source": [
    "# Vill ni visa en bild i en IPython-notebook, kan ni använda funktionen Image som ni importerar from biblioteket IPython.display\n",
    "from IPython.display import Image\n",
    "Image(filename='Bild1.png', width = 600, height = 300)"
   ]
  },
  {
   "cell_type": "code",
   "execution_count": null,
   "metadata": {},
   "outputs": [],
   "source": [
    "# Vi vill anbända ekvationer i det här dokumentet\n",
    "from IPython.display import display, Math, Latex\n"
   ]
  },
  {
   "cell_type": "markdown",
   "metadata": {},
   "source": [
    "Ett problem med röntgenkristallografi är att proteinerna måste bilda kristaller. Det är inte alltid så enkelt att kristallisera proteiner, och för 20 år sedan föreslogs Neutze et al. [Nature **2000**, 406, 752] en ny metod för att se molekylstrukturen i proteiner - single particle imaging (SPI). I den tekniken använder man enstaka proteiner som bestrålas av väldigt korta (femtosekund) fotonintensiva ($10^{14}$) röntgenpulser. Metoden har under åren utvecklats och även om man ännu inte kan göra avbildningar på molekylärnivå (med en upplösning på runt 1 Ångström) så har metoden förfinats avsevärt sedan den presenterades. Sobolev et al. [Com. Phys. **2020**, 3, 97]\n",
    "\n",
    "I SPI experiment injiceras proteinerna flygande i vakuum in i röntgenpulsen. Ett sätt att förbättra tekniken vore att kontrollera orienteringen av proteinet i det ögonblick då det träffas av röntgenpulsen. Proteinmolekyler har ofta ojämn laddningsfördelning, vilket ger uppgov till en *dipol* (enhet Coulombmeter, mer om det i kursen i elektromagnetism [1FA603] i höst!). Genom att utnyttja dipolen i proteinmolekylen och ett externt elektrisktfält kan man orientera proteinerna i vakuum Marklund et al. [J. Phys. Chem. Lett., **2017**, 8, 4540]. Växelverkan mellan en dipol $\\vec{p}$ och ett elektriskt fält $\\vec{E}$ get upphov till ett vridmoment enligt\n",
    "$$\n",
    "\\begin{equation}\n",
    "\\vec{\\tau} = \\vec{p}\\times\\vec{E} \\quad \\quad (1)\n",
    "\\end{equation}\n",
    "$$\n",
    "Om en dipol är placerad i ett elektriskt fält med en vinkel mellan dipolvektor och fältvektorn större än noll kommer alltså vridmomentet ge upphov till en svängningsrörelse som påverkas av dipolens storlek, storleken på det elektriska fältet samt proteinets tröghetsmoment. Rörelseekvationen för proteinet i ett elektriskt fält är densamma som för en torsionspendel, \n",
    "$$\n",
    "\\begin{equation}\n",
    "\\overline{\\overline{I}}\\frac{d^{2}\\theta}{dt^{2}} + \\vec{p}\\times\\vec{E} = 0 \\quad \\quad (2)\n",
    "\\end{equation}\n",
    "$$"
   ]
  },
  {
   "cell_type": "markdown",
   "metadata": {},
   "source": [
    "Proteinen är i de flesta fall globulära, så tröghetstensorn kan approximeras av att proteinet är en sfär med densitet 1, och en given massa. Om vi använder ett cylindriskt korrdinatsystem där proteinets dipol och det elektriska fältet ligger i samma plan, kan vi utnytja att magnituden på kryssprodukten ges av arean av parallelepipedern som spänns upp av $\\vec{p}$ och $\\vec{E}$, dvs  $\\tau=\\vec{p}\\times\\vec{E} = |\\vec{p}||\\vec{E}|\\sin{\\theta}$ och skriva om ekvationen på *skalär* form för att underlätta numerisk lösning. Vi passar också på att skriva ekvationen så att koefficienten framför andraderivatan är  1, och löser alltså\n",
    "$$\n",
    "\\frac{d^{2}\\theta}{dt^{2}} + \\frac{|\\vec{p}||\\vec{E}|}{I}\\sin{\\theta} = 0 , \\quad \\quad (3)\n",
    "$$\n",
    "där $\\theta$ är vinkel mellan dipol och elektriskt fält. Svängningarnas amplitud beskrivs alltså av måttet $\\theta(t)$. \n",
    "I termer av en torsionspendel med torsionskonstant $D=\\sqrt{|\\vec{p}||\\vec{E}|}$ har vi alltså en ekvation som ni känner igen väl\n",
    "$$\n",
    "\\frac{d^{2}\\theta}{dt^{2}} + \\frac{D}{I}\\sin{\\theta} = 0 \\quad \\quad (4)\n",
    "$$\n"
   ]
  },
  {
   "cell_type": "code",
   "execution_count": null,
   "metadata": {},
   "outputs": [],
   "source": [
    "Image(filename='Bild2.png', width = 400, height = 200)"
   ]
  },
  {
   "cell_type": "markdown",
   "metadata": {},
   "source": [
    "För små vinklar brukar man göra approximationen $\\sin(\\theta)=\\theta$, där alltså det återförande momentet (c.f. den återförande kraften för en linjär harmonisk oscillator) är ett linjärt förhållande till torsionskosntanten $D$, dvs\n",
    "\n",
    "$$\n",
    "\\frac{d^{2}\\theta}{dt^{2}}=-\\frac{D}{I}\\theta. \\quad \\quad (4)  \n",
    "$$ \n",
    "I detta fall är, för små vinklar med $ D = |\\vec{p}||\\vec{E}|$, egenfrekvensen $\\omega = \\sqrt{\\frac{D}{I}}$. \n",
    "\n",
    "Då vi löser differentialekvationen numeriskt med hjälp av en integrator för ordinära differentialekvationer från biblioteket *scipy*, kan vi ha kvar termen $\\sin\\theta$ i sin helhet.  Vi behöver alltså inte begränsa oss till små vinklar utan kan ta fram den generella lösningen. För den som är intresserad kan ni kika i filen *oscillator_lib.py* för att se hur scipy används i det här fallet. Senare i utbildningen erbjurds kurser i numerisk analys.\n",
    "\n",
    "Nedan följer python-kod som löser den generella differentialekvationen med givna begynnelesevilkor. Som synes är relevanta parametrar: 1) tröghetsmomentet för proteinet, 2) dipolmoment för proteinet, 3) Den elektriska fältstyrkan, 4) den initiala vinkelt mellan fältet och dipolen, 5) den initiala vinkelhastigheten. I koden finns kommentarer, dvs text som föregås av ett \"#\", som inte exekveras, som ger tips om hur ni kan gå tillväga för att ändra relevanta saker.\n",
    "\n",
    "\n",
    "För små vinklar är den analytiska lösningen $\\theta(t)=\\theta_{0}\\cos(\\omega t - \\phi)$ där $\\theta_{0}$ är amplituden och $\\phi$ är en fasvinkel. \n",
    "\n",
    "**1) I härledningen för den harmoniska oscillatorn där en liten amplitud antas är svängningsfrekvensen oberoende av initialvilkor. Använd nedanstående python-kod för att avgöra upp till hur stora start-vinklar det stämmer till ungefär 10% genom att:**\n",
    "\n",
    "**a) skriv in den analytiska lösningen för små vinklar med amplitud $\\theta_{0}=1$ och fasvinkel $\\phi=0$**\n",
    "\n",
    "**b) beräkna den numeriska lösningen för några initialvillkor**\n",
    "\n",
    "**c) plotta den analytiska och den numeriska lösningen i en graf**\n",
    "\n",
    "**d) ändra initialvilkoren för den numeriska lösningen så ni på 10 perioder av den analytiska lösningen har 11 perioder av den analytiska**\n",
    "\n"
   ]
  },
  {
   "cell_type": "code",
   "execution_count": null,
   "metadata": {},
   "outputs": [],
   "source": [
    "from oscillator_lib import solve_torsion_oscillator  # Differentialekvationslösare\n",
    "import numpy as np  # Numeriska rutiner\n",
    "from numpy import pi  # ~3.14 (för att slippa skriva np.pi)\n",
    "import matplotlib.pyplot as plt  # enkla grafer\n",
    "\n",
    "# Definiera en vektor som inehåller en tidsaxel\n",
    "time = np.linspace(0, 100, 10000)\n",
    "\n",
    "\n",
    "# Definiera ingångsvärden för proteinet:\n",
    "# 1) tröghetsmoment\n",
    "# 2) dipolmoment\n",
    "I = 0.5\n",
    "p = 1.0\n",
    "\n",
    "# Elektriskt fält\n",
    "# 3) elektriskt fält\n",
    "E = 1.0\n",
    "\n",
    "#########################################################\n",
    "# 1a) Skriv in den analytiska lösningen för små vinklar #\n",
    "#########################################################\n",
    "# tips:\n",
    "# Uttryck egenfrekvensen enligt den tidigare rutan. Kvadratroten \n",
    "# fås med hjälp av funktionen np.sqrt(X), där X är det ni vill \n",
    "# dra roten ur.\n",
    "\n",
    "omega = 0 # Byt ut 0 mot det rätta uttrycket för omega då man antagit små vinklar. \n",
    "\n",
    "\n",
    "# Använd numpy's cosinusfunktion 'np.cos()' för att evaluera cos(wt), \n",
    "# den kan ta en vektor som argument, och man kan alltså använda vektorn\n",
    "# med tidsaxeln.\n",
    "\n",
    "analytical_small_angle_solution = 0 # Byt ut mot det rätta uttrycket.\n",
    "\n",
    "\n",
    "\n",
    "################################################################\n",
    "# 1b) Beräkna den numeriska lösningen för några initialvillkor #\n",
    "################################################################\n",
    "\n",
    "# Definiera initialvillkor\n",
    "# 4) initial startvinkel (start amplitud) \n",
    "theta_0 = 0.2*pi\n",
    "\n",
    "# 5) initial vinkelhastighet ska vara 0 enligt uppgiften, den nyfikne kan med fördel också testa vad som händer \n",
    "# med en viss initial vinkelhastighet.\n",
    "omega_0 = 0.0*pi\n",
    "\n",
    "# Den numeriska lösningen med givna initialvilkor fås från funktionen \"solve_torsion_oscillator\", som\n",
    "# i det här fallet är skriven för att hantera just elektriska fält och dipoler som torsionskonstant.\n",
    "# positioner (amplitud) som funktion av tid hamnar i variabeln \"pos1\"\n",
    "[pos1, vel1] = solve_torsion_oscillator(time, theta_0, omega_0, I, p, E)\n",
    "\n",
    "# Vi kan beräkna en till lösning för en större startvinkel\n",
    "theta_0 = 0.8*pi\n",
    "# Nu lägger vi svaret, dvs amplituden i \"pos2\", så vi kan plotta båda samtidigt.\n",
    "[pos2, vel2] = solve_torsion_oscillator(time, theta_0, omega_0, I, p, E)\n",
    "\n",
    "\n",
    "\n",
    "###############################################################\n",
    "# 1c) Plotta den analytuska och numeriska lösningen i en graf #\n",
    "###############################################################\n",
    "\n",
    "# Rita en graf over position (i vinkelrymden) mot tid med hjälp av \"plot\"\n",
    "plt.plot(time, analytical_small_angle_solution, label='Små vinklar')\n",
    "plt.plot(time, pos1, 'k', label=\"Utgångsvinkel 0.2pi rad, Initialhastighet 0.0pi rad/s\")\n",
    "\n",
    "# Man kan man plotta många funktioner i samma graf... \n",
    "plt.plot(time, pos2, label=\"Utgångsvinkel 0.8pi rad, Initialhastighet 0.0pi rad/s\")\n",
    "\n",
    "plt.legend()\n",
    "plt.show()"
   ]
  },
  {
   "cell_type": "code",
   "execution_count": null,
   "metadata": {},
   "outputs": [],
   "source": [
    "# Nu är det ju inte så roligt att räkna perioder för hand... \n",
    "# Så varför inte använda python för att anpassa en funktion\n",
    "# där man enkelt får reda på vinkelfrekvense. En sådan funktion\n",
    "# som är förberedd för ändamålet är \"fit_steady_state\". Den \n",
    "# fungerar väl om man har långa kontinuerliga förlopp.\n",
    "\n",
    "from oscillator_lib import fit_steady_state\n",
    "fit1, [a1, w1, ph] = fit_steady_state(time,analytical_small_angle_solution)\n",
    "fit2, [a2, w2, ph] = fit_steady_state(time,pos1)\n",
    "fit3, [a3, w3, ph] = fit_steady_state(time,pos2)\n",
    "print(\"Anpassningarna ger följande frekvenser: \", w1, w2, w3)\n"
   ]
  },
  {
   "cell_type": "markdown",
   "metadata": {},
   "source": [
    "Proteinet består av många atomer som är bundna till varandra. Dessa bindningar kan absorbera energi, vilket medför att bindningarna oscillerar kraftigare runt sin normala bindningsavstånd. Då temperaturen (bland annat) är en funktion av hur mycket atomerna vibrerar kan man säga att temperaturen ökar. Ett protein i ett elektromagnetiskt fält kommer inte svänga för evigt då de interna vibrationerna tar upp delar av energin. Proteinets oscillationer dämpas alltså med termen $$\\gamma \\frac{d\\theta}{dt}$$, och dynamiken följer den hos en dämpad harmonisk oscillator,\n",
    "$$\n",
    "\\begin{equation}\n",
    "\\overline{\\overline{I}}\\frac{d^{2}\\theta}{dt^{2}} + \\gamma\\frac{d\\theta}{dt} + |\\vec{p}||\\vec{E}|\\sin{\\theta} = 0 .\n",
    "\\end{equation}\n",
    "$$\n",
    "\n",
    "**2) Påverkar dämpningen oscillatorns egenfrekvens? Välj en (liten) vinken och variera $\\gamma$ för att avgöra om så är fallet.**"
   ]
  },
  {
   "cell_type": "code",
   "execution_count": null,
   "metadata": {},
   "outputs": [],
   "source": [
    "# Notera att de variabler ni körde i senaste \"code\"-cellen är aktiva. \n",
    "# Om ni ändrar något i en cell ovanför måste ni exekvera cellen igen.\n",
    "# Alternativt kan man definiera variablerna igen i den aktuella cellen.\n",
    "\n",
    "\n",
    "time = np.linspace(0, 20, 10000)\n",
    "\n",
    "\n",
    "\n",
    "# Initialvillkor\n",
    "theta_0 = 0.1*pi\n",
    "omega_0 = 0.0*pi\n",
    "\n",
    "# Dämpningsfaktorn\n",
    "gamma = 0.1\n",
    "\n",
    "# Notera att vi nu lagt till argumentet \"gamma\", som är ett valfritt argument i funktionen.\n",
    "[pos1, vel1] = solve_torsion_oscillator(time, theta_0, omega_0, I, p, E, gamma)\n",
    "\n",
    "\n",
    "gamma = 0.5\n",
    "[pos2, vel2] = solve_torsion_oscillator(time, theta_0, omega_0, I, p, E, gamma)\n",
    "\n",
    "gamma = 0.7\n",
    "[pos3, vel3] = solve_torsion_oscillator(time, theta_0, omega_0, I, p, E, gamma)\n",
    "\n",
    "plt.plot(time, pos1, 'k', label=\"gamma=0.1\")\n",
    "plt.plot(time, pos2, 'g', label=\"gamma=0.2\")\n",
    "plt.plot(time, pos3, 'b', label=\"gamma=0.5\")\n",
    "plt.legend()\n",
    "#plt.xlim(0.0,5.0)\n",
    "plt.show()"
   ]
  },
  {
   "cell_type": "markdown",
   "metadata": {},
   "source": [
    "Som ni ser, och som ni säkert märkt på de experimentella labbar ni haft, är det inte lätt att avgöra med blotta ögat. Lyckligtvis finns hjälp! I *numpy* finns funktioner där man lätt extraherar max- och min-värde från en array. Då vi har en dämpad oscillator förväntar vi oss att svängningarna avtar med tiden. Initialvilkoret är inställt så att vi har en max-punkt för amplituden då $t=0$, och minimat hamnar vid $t=T/2$. *np.argmax* returnerar positionen för det största värdet på amplituden, och *np.argmin* positionen för det minsta. Periodtiden kan vi alltså få genom $T=2(t(A_{min})-t(A_{max}))$. Funktionen *print* kan användas för att skriva ut på skärmen.\n",
    "\n",
    "**3) Bestäm periodtiden mha funktioner i numpy.**"
   ]
  },
  {
   "cell_type": "code",
   "execution_count": null,
   "metadata": {},
   "outputs": [],
   "source": [
    "# Nu har vi inte ett långt kontinuerligt förlopp, funktionen som användes i uppgift 1 är inte \n",
    "# tillämpbar. Därför måste vi använda annan aritmetik för att ta fram periodtiden för första\n",
    "# svängningen.\n",
    "\n",
    "T1=2*(time[np.argmin(pos1)]\n",
    "                   -time[np.argmax(pos1)])\n",
    "T2=2*(time[np.argmin(pos2)]\n",
    "                   -time[np.argmax(pos2)])\n",
    "T3=2*(time[np.argmin(pos3)]\n",
    "                   -time[np.argmax(pos3)])\n",
    "print('T för gamma=0.1: ', T1)\n",
    "print('T för gamma=0.2: ', T2)\n",
    "print('T för gamma=0.5: ', T3)"
   ]
  },
  {
   "cell_type": "markdown",
   "metadata": {},
   "source": [
    "# Vad katten är det katten har släpat in?\n",
    "Skarpt läge! Katten har släpat in en oidentifierbar \"bit\". Du har försökt hålla katten med lakto-ovo-veketariansk kost, men anar nu ugglor i mossen, har katten böjar jaga djur på egen hand? Tyvärr har du ingen röntgenlaser hemma, och kan därför inte avgöra vilket protein som finns i \"biten\" genom röntgendiffraktion.\n",
    "Lyckligtvis har du en bra ugn hemma, tillgång till  en stor platt-kondensator, mätutrustning för oscillerande (mycket små) fält, glatt humör och andra nödvändigheter. Du beslutar dej för att evaporera \"biten\" för att mäta vilken egenfrekvens beståndsdelarna har när dom svänger i ett elektriskt fält, enligt torsionsoscillatormodellen. Olika sorters protein är ofta en markör för vad som är proteinets ursprung. \n",
    "\n",
    "Med vetskapen om vad som påverkar egenfrekvensen kan vi karaktärisera proteinerna genom att mäta hur dom svänger i ett elektriskt fält. Proteinet kommer in i \"mätapparaten\" med slumpmässig initialvinkel $\\theta_0$, men bedöms rotera så långsamt att initialrotationshastigheten $\\omega_0$ är irrelevant. Svängningarna följer ekvationen \n",
    "\n",
    "$$\n",
    "\\begin{equation}\n",
    "\\frac{d^{2}\\theta}{dt^{2}} + \\frac{\\gamma}{I}\\frac{d\\theta}{dt} + \\frac{|\\vec{p}||\\vec{E}|}{I}\\sin{\\theta} = 0 .\n",
    "\\end{equation}\n",
    "$$\n",
    "\n",
    "Du kan påverka svängingarnas period genom att variera storleken på det elektriska fältet $|\\vec{E}|$, och därigenom avgöra proteinernas tröghetsmoment, dipol och dämpningsfaktor.\n",
    "\n",
    "**4) Gör mätningar som bestämmer vilket protein som dominerar i den okända 'biten':**\n",
    "Använd nedanstående tabell, från Shvartsburg *et al.* [J. Phys. Chem. B **2006**, 110, 21966], vi har markerat några troliga protein med röd markering."
   ]
  },
  {
   "cell_type": "code",
   "execution_count": null,
   "metadata": {},
   "outputs": [],
   "source": [
    "Image(filename='Bild5.png', width = 400, height = 200)\n"
   ]
  },
  {
   "cell_type": "markdown",
   "metadata": {},
   "source": [
    "Låt oss konvertera enheterna till kg och Cm. 1 Da ~ 1.661e-17 kg, och 1 D ~ 3.336e-30 Cm. Som ni ser är det mycket små värden, därför används ofta andra enheter när man arbetar med nanofysik/kemi. På samma sätt används andra mått när man jobbar med väldigt stora objekt, som i t.ex. astronomi. "
   ]
  },
  {
   "cell_type": "code",
   "execution_count": null,
   "metadata": {},
   "outputs": [],
   "source": [
    "Da_to_kg=1.661e-17\n",
    "D_to_Cm=3.336e-30\n",
    "\n",
    "# Vi konverterar värdet för massan i tabellen till Kg\n",
    "m_ubiquitin = 8566*Da_to_kg\n",
    "m_lysozyme = 14305*Da_to_kg\n",
    "m_myoglobin = 16950*Da_to_kg\n",
    "\n",
    "# Vi konverterar värdet för dipolen i tabellen till Cm\n",
    "p_ubiquitin = 189*D_to_Cm\n",
    "p_lysozyme = 218*D_to_Cm\n",
    "p_myoglobin = 225*D_to_Cm"
   ]
  },
  {
   "cell_type": "markdown",
   "metadata": {},
   "source": [
    "\n",
    "\n",
    "Du \"mäter\" på proteinet genom att använda funktionen *measure_molecule*, enigt exemplet nedan. Notera att dämpningen inte är känd, behöver ni veta den? Tänk på att torsionskonstanten förändras med det pålagda fältet så kan ni använda olika elektriska fält för att förändra egenfrekvensen.\n",
    "\n",
    "I exemplet nedan har vi definierat en loop i python för att mäta för flera olika värden på det elektriska fältet. Molekylerna kommer in i mätapparaten med slumpmässig vinkel gentemot det elektriska fältet och låg vinkelhastighet. Som nämnts tidigare kan tröghetstensorn beräknas genom att proteinet approximeras som en sfär med densitet 1kg/l.\n",
    "\n",
    "\n",
    "**a) Bestäm vilken organism som biten kommer ifrån genom att studera svängningarna och på så sätt bestämma dipolen för proteinet.**\n"
   ]
  },
  {
   "cell_type": "code",
   "execution_count": null,
   "metadata": {},
   "outputs": [],
   "source": [
    "from oscillator_lib import measure_molecule \n",
    "\n",
    "\n",
    "E_fields=np.linspace(1, 10, 11) # i volt/meter\n",
    "# Skriv ut listan med elektiska fält:\n",
    "print(E_fields)\n",
    "\n",
    "# Gör en tom lista där förloppen sparas, A_vs_t\n",
    "A_vs_t=[]\n",
    "\n",
    "# Definiera en tidsaxel, vad är rimligt? Jämför med torsionskonstanten \n",
    "# och tröghetsmomentet för att upskatta i vilken härad som egenfrekvensen \n",
    "# för de olika molekyerlan ligger.\n",
    "\n",
    "t_max=10000 # tid i sekunder\n",
    "time = np.linspace(0, t_max, 10000)\n",
    "\n",
    "for E in E_fields:\n",
    "    # Lägg till det som returneras av measure_molecule[:,0] i A, det är amplituder som returneras.\n",
    "    A_vs_t.append(measure_molecule(time, E)) # E i GV/m\n",
    "\n",
    "\n",
    "\n",
    "# Nu kan vi analysera svaret, som ni ser är det inte lätt att säga något direkt från amplitud mot tid-kurvan.\n",
    "for i, A in enumerate(A_vs_t):\n",
    "    plt.plot(time,A,label='E={0}'.format(E_fields[i]))\n",
    "plt.legend()\n",
    "plt.show()"
   ]
  },
  {
   "cell_type": "code",
   "execution_count": null,
   "metadata": {},
   "outputs": [],
   "source": [
    "# Beräkna peridtiden enligt förra uppgiften, och plotta periodtid mot fält\n",
    "def get_period_time(A,time):\n",
    "    if A[0]<0.0:\n",
    "        T = 2*(time[np.argmax(A[:])]\n",
    "                   -time[np.argmin(A[:])])\n",
    "    else: \n",
    "        T = 2*(time[np.argmin(A[:])]\n",
    "                   -time[np.argmax(A[:])])\n",
    "    return T\n",
    "\n",
    "# Definiera en funktion som beräknar vinkelfrekvensen för en lista av förlopp med olika elektriska fält vs. tid.\n",
    "def get_w_for_list(Amplitudes,time):\n",
    "    w_list=[]\n",
    "    for A in Amplitudes:\n",
    "        w_list.append(2*pi/get_period_time(A,time))\n",
    "    return w_list\n",
    "\n",
    "w_list=get_w_for_list(A_vs_t, time)\n",
    "\n",
    "plt.plot(E_fields,w_list, label='Molecules period time in field'.format(i))\n",
    "plt.xlabel('Electric field strength')\n",
    "plt.ylabel('Angular frequency')\n",
    "\n",
    "plt.legend()\n",
    "plt.show()"
   ]
  },
  {
   "cell_type": "code",
   "execution_count": null,
   "metadata": {},
   "outputs": [],
   "source": [
    "# I dom här rutorna kan man till exempel beräkna enkel aritmetik med numpy. T.ex. exponenter beräknas med np.power(x,n) for x^n."
   ]
  },
  {
   "cell_type": "code",
   "execution_count": null,
   "metadata": {},
   "outputs": [],
   "source": []
  }
 ],
 "metadata": {
  "kernelspec": {
   "display_name": "Python 3",
   "language": "python",
   "name": "python3"
  },
  "language_info": {
   "codemirror_mode": {
    "name": "ipython",
    "version": 3
   },
   "file_extension": ".py",
   "mimetype": "text/x-python",
   "name": "python",
   "nbconvert_exporter": "python",
   "pygments_lexer": "ipython3",
   "version": "3.7.6"
  }
 },
 "nbformat": 4,
 "nbformat_minor": 4
}
